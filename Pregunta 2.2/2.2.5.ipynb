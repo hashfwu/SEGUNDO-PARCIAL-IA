{
 "cells": [
  {
   "cell_type": "code",
   "execution_count": 88,
   "metadata": {},
   "outputs": [],
   "source": [
    "import numpy as np\n",
    "from IPython import display\n",
    "import matplotlib.pyplot as plt\n",
    "import os"
   ]
  },
  {
   "cell_type": "code",
   "execution_count": 89,
   "metadata": {},
   "outputs": [],
   "source": [
    "# Inicialización de pesos y sesgos\n",
    "np.random.seed(42)"
   ]
  },
  {
   "cell_type": "code",
   "execution_count": 90,
   "metadata": {},
   "outputs": [],
   "source": [
    "# Generador de datos\n",
    "def data_generator(board, boards, i):\n",
    "    if i < 9:\n",
    "        for value in [1, 0, -1]:  # Posibles valores\n",
    "            new_board = board.copy()\n",
    "            new_board[i] = value\n",
    "            data_generator(new_board, boards, i + 1)\n",
    "    else:\n",
    "        boards.append(board)  # Solo añadimos al final de la generación\n",
    "    return boards"
   ]
  },
  {
   "cell_type": "code",
   "execution_count": 91,
   "metadata": {},
   "outputs": [],
   "source": [
    "# Función de activación tanh y su derivada\n",
    "def tanh(x):\n",
    "    return np.tanh(x)\n",
    "\n",
    "def tanh_derivative(x):\n",
    "    return 1 - np.tanh(x)**2"
   ]
  },
  {
   "cell_type": "code",
   "execution_count": 92,
   "metadata": {},
   "outputs": [],
   "source": [
    "# Inicialización del dataset\n",
    "input_data = np.array(data_generator([0] * 9, [], 0))\n",
    "output_data = input_data.copy()  # Sin normalización adicional porque usamos tanh\n",
    "\n",
    "# Normalización opcional de los datos\n",
    "input_data = (input_data - np.mean(input_data)) / np.std(input_data)  # Normalización por si es necesario\n",
    "output_data = (output_data - np.mean(output_data)) / np.std(output_data)"
   ]
  },
  {
   "cell_type": "code",
   "execution_count": 93,
   "metadata": {},
   "outputs": [],
   "source": [
    "class TicTacToeNN:\n",
    "    def __init__(self, input_size, hidden_size, output_size):\n",
    "\n",
    "        # Layer size\n",
    "        self.input_size = input_size\n",
    "        self.hidden_size = hidden_size # Más neuronas para captar relaciones\n",
    "        self.output_size = output_size\n",
    "\n",
    "        # Weigths and bias\n",
    "        self.weights_input_hidden = np.random.uniform(-1, 1, (input_size, hidden_size))\n",
    "        self.weights_hidden_output = np.random.uniform(-1, 1, (hidden_size, output_size))\n",
    "        self.bias_hidden = np.random.uniform(-1, 1, (1, hidden_size))\n",
    "        self.bias_output = np.random.uniform(-1, 1, (1, output_size))\n",
    "\n",
    "        self.loss = []\n",
    "    \n",
    "    def train(self, input_data, output_data, epochs, learning_rate, view_rate=None, view_graph = False):\n",
    "        \n",
    "        if view_graph:\n",
    "            fig, ax = plt.subplots()\n",
    "\n",
    "        for epoch in range(epochs):\n",
    "            # Propagación hacia adelante\n",
    "            hidden_layer_input = np.dot(input_data, self.weights_input_hidden) + self.bias_hidden\n",
    "            hidden_layer_output = tanh(hidden_layer_input)\n",
    "\n",
    "            output_layer_input = np.dot(hidden_layer_output, self.weights_hidden_output) + self.bias_output\n",
    "            predicted_output = tanh(output_layer_input)\n",
    "\n",
    "            # Cálculo del error\n",
    "            error = output_data - predicted_output\n",
    "            mse = np.mean(np.square(error))\n",
    "\n",
    "            # Propagación hacia atrás\n",
    "            d_predicted_output = error * tanh_derivative(predicted_output)\n",
    "            error_hidden_layer = np.dot(d_predicted_output, self.weights_hidden_output.T)\n",
    "            d_hidden_layer = error_hidden_layer * tanh_derivative(hidden_layer_output)\n",
    "\n",
    "            # Actualización de pesos y sesgos\n",
    "            self.weights_hidden_output += np.dot(hidden_layer_output.T, d_predicted_output) * learning_rate\n",
    "            self.bias_output += np.sum(d_predicted_output, axis=0, keepdims=True) * learning_rate\n",
    "\n",
    "            self.weights_input_hidden += np.dot(input_data.T, d_hidden_layer) * learning_rate\n",
    "            self.bias_hidden += np.sum(d_hidden_layer, axis=0, keepdims=True) * learning_rate\n",
    "\n",
    "            if view_rate:\n",
    "                # Opcional: Imprimir el error cada 1000 épocas\n",
    "                if epoch % view_rate == 0:\n",
    "                    if view_graph:\n",
    "\n",
    "                        self.loss.append(mse)\n",
    "\n",
    "                        # Graficar la pérdida y el error en vivo\n",
    "                        ax.clear()  # Limpiar el gráfico\n",
    "                        ax.plot(self.loss, label=\"Pérdida (MSE)\", color=\"blue\")\n",
    "                        ax.set_title(f\"Epoch {epoch}/{epochs}    MSE: {mse}\")\n",
    "                        ax.set_xlabel(f\"Épocas (cada {view_rate})\")\n",
    "                        ax.set_ylabel(\"Pérdida / Error\")\n",
    "                        ax.legend()\n",
    "\n",
    "                        display.clear_output(wait=True)  # Limpiar salida en Jupyter\n",
    "                        display.display(plt.gcf())  # Mostrar la figura\n",
    "                    else:\n",
    "                        print(f\"Epoch {epoch}/{epochs} - MSE: {mse}\")\n",
    "        plt.clf()\n",
    "        # Opcional: Imprimir el error final\n",
    "        print(f\"Error final (MSE): {mse}\")\n",
    "\n",
    "    def predict(self, input_data):\n",
    "            \n",
    "            hidden_layer_input = np.dot(input_data, self.weights_input_hidden) + self.bias_hidden\n",
    "            hidden_layer_output = tanh(hidden_layer_input)\n",
    "\n",
    "            output_layer_input = np.dot(hidden_layer_output, self.weights_hidden_output) + self.bias_output\n",
    "            predicted_output = tanh(output_layer_input)\n",
    "\n",
    "            return predicted_output\n",
    "\n",
    "    def save(self):\n",
    "        np.save(\"weights_input_hidden.npy\", self.weights_input_hidden)\n",
    "        np.save(\"bias_hidden.npy\", self.bias_hidden)\n",
    "        np.save(\"weights_hidden_output.npy\", self.weights_hidden_output)\n",
    "        np.save(\"bias_output.npy\", self.bias_output)\n",
    "\n",
    "    def load(self):\n",
    "        if os.path.exists(\"weights_input_hidden.npy\") and os.path.exists(\"bias_hidden.npy\") and os.path.exists(\"weights_hidden_output.npy\") and os.path.exists(\"bias_output.npy\"):\n",
    "            self.weights_input_hidden = np.load(\"weights_input_hidden.npy\")\n",
    "            self.bias_hidden = np.load(\"bias_hidden.npy\")\n",
    "            self.weights_hidden_output = np.load(\"weights_hidden_output.npy\")\n",
    "            self.bias_output = np.load(\"bias_output.npy\")\n",
    "            print(\"Archivos cargados correctamente.\")\n",
    "        else:\n",
    "            print(\"No se han encontrado los archivos guardados\")"
   ]
  },
  {
   "cell_type": "code",
   "execution_count": 124,
   "metadata": {},
   "outputs": [],
   "source": [
    "INPUT_SIZE = 9\n",
    "HIDDEN_SIZE = 18\n",
    "OUTPUT_SIZE = 9\n",
    "EPOCHS = 20000\n",
    "LEARNING_RATE = 0.1\n",
    "VIEW_RATE = 100"
   ]
  },
  {
   "cell_type": "code",
   "execution_count": 125,
   "metadata": {},
   "outputs": [],
   "source": [
    "NN = TicTacToeNN(INPUT_SIZE, HIDDEN_SIZE, OUTPUT_SIZE)\n"
   ]
  },
  {
   "cell_type": "code",
   "execution_count": 126,
   "metadata": {},
   "outputs": [],
   "source": [
    "# NN.load()"
   ]
  },
  {
   "cell_type": "code",
   "execution_count": 127,
   "metadata": {},
   "outputs": [
    {
     "data": {
      "image/png": "[encoded data removed]",
      "text/plain": [
       "<Figure size 640x480 with 1 Axes>"
      ]
     },
     "metadata": {},
     "output_type": "display_data"
    },
    {
     "name": "stdout",
     "output_type": "stream",
     "text": [
      "Error final (MSE): 1.263698587049438\n"
     ]
    },
    {
     "data": {
      "text/plain": [
       "<Figure size 640x480 with 0 Axes>"
      ]
     },
     "metadata": {},
     "output_type": "display_data"
    }
   ],
   "source": [
    "NN.train(input_data, output_data, EPOCHS, LEARNING_RATE, VIEW_RATE, view_graph=True)"
   ]
  },
  {
   "cell_type": "code",
   "execution_count": 128,
   "metadata": {},
   "outputs": [],
   "source": [
    "NN.save()"
   ]
  }
 ],
 "metadata": {
  "kernelspec": {
   "display_name": "spt",
   "language": "python",
   "name": "python3"
  },
  "language_info": {
   "codemirror_mode": {
    "name": "ipython",
    "version": 3
   },
   "file_extension": ".py",
   "mimetype": "text/x-python",
   "name": "python",
   "nbconvert_exporter": "python",
   "pygments_lexer": "ipython3",
   "version": "3.12.7"
  }
 },
 "nbformat": 4,
 "nbformat_minor": 2
}
