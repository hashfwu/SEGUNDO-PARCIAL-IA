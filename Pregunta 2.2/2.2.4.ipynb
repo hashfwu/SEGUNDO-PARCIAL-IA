{
 "cells": [
  {
   "cell_type": "code",
   "execution_count": 8,
   "metadata": {},
   "outputs": [],
   "source": [
    "import numpy as np"
   ]
  },
  {
   "cell_type": "code",
   "execution_count": 9,
   "metadata": {},
   "outputs": [],
   "source": [
    "# Generador de datos\n",
    "def data_generator(board, boards, i):\n",
    "    if i < 9:\n",
    "        for value in [1, 0, -1]:  # Posibles valores\n",
    "            new_board = board.copy()\n",
    "            new_board[i] = value\n",
    "            data_generator(new_board, boards, i + 1)\n",
    "    else:\n",
    "        boards.append(board)  # Solo añadimos al final de la generación\n",
    "    return boards"
   ]
  },
  {
   "cell_type": "code",
   "execution_count": 10,
   "metadata": {},
   "outputs": [],
   "source": [
    "# Función de activación tanh y su derivada\n",
    "def tanh(x):\n",
    "    return np.tanh(x)\n",
    "\n",
    "def tanh_derivative(x):\n",
    "    return 1 - np.tanh(x)**2"
   ]
  },
  {
   "cell_type": "code",
   "execution_count": 11,
   "metadata": {},
   "outputs": [],
   "source": [
    "# Inicialización del dataset\n",
    "input_data = np.array(data_generator([0] * 9, [], 0))\n",
    "output_data = input_data.copy()  # Sin normalización adicional porque usamos tanh\n",
    "\n",
    "# Normalización opcional de los datos\n",
    "input_data = (input_data - np.mean(input_data)) / np.std(input_data)  # Normalización por si es necesario\n",
    "output_data = (output_data - np.mean(output_data)) / np.std(output_data)"
   ]
  },
  {
   "cell_type": "code",
   "execution_count": 12,
   "metadata": {},
   "outputs": [],
   "source": [
    "\n",
    "# Parámetros de la red\n",
    "input_size = 9\n",
    "hidden_size = 18  # Más neuronas para captar relaciones\n",
    "output_size = 9\n",
    "learning_rate = 0.01  # Ajuste más suave\n",
    "epochs = 10000  # Más iteraciones\n",
    "\n"
   ]
  },
  {
   "cell_type": "code",
   "execution_count": 13,
   "metadata": {},
   "outputs": [],
   "source": [
    "\n",
    "# Inicialización de pesos y sesgos\n",
    "np.random.seed(42)\n",
    "weights_input_hidden = np.random.uniform(-1, 1, (input_size, hidden_size))\n",
    "weights_hidden_output = np.random.uniform(-1, 1, (hidden_size, output_size))\n",
    "bias_hidden = np.random.uniform(-1, 1, (1, hidden_size))\n",
    "bias_output = np.random.uniform(-1, 1, (1, output_size))\n",
    "\n"
   ]
  },
  {
   "cell_type": "code",
   "execution_count": 14,
   "metadata": {},
   "outputs": [
    {
     "name": "stdout",
     "output_type": "stream",
     "text": [
      "Epoch 0/10000 - MSE: 1.6989785141298104\n"
     ]
    },
    {
     "ename": "KeyboardInterrupt",
     "evalue": "",
     "output_type": "error",
     "traceback": [
      "\u001b[0;31m---------------------------------------------------------------------------\u001b[0m",
      "\u001b[0;31mKeyboardInterrupt\u001b[0m                         Traceback (most recent call last)",
      "Cell \u001b[0;32mIn[14], line 23\u001b[0m\n\u001b[1;32m     20\u001b[0m weights_hidden_output \u001b[38;5;241m+\u001b[39m\u001b[38;5;241m=\u001b[39m np\u001b[38;5;241m.\u001b[39mdot(hidden_layer_output\u001b[38;5;241m.\u001b[39mT, d_predicted_output) \u001b[38;5;241m*\u001b[39m learning_rate\n\u001b[1;32m     21\u001b[0m bias_output \u001b[38;5;241m+\u001b[39m\u001b[38;5;241m=\u001b[39m np\u001b[38;5;241m.\u001b[39msum(d_predicted_output, axis\u001b[38;5;241m=\u001b[39m\u001b[38;5;241m0\u001b[39m, keepdims\u001b[38;5;241m=\u001b[39m\u001b[38;5;28;01mTrue\u001b[39;00m) \u001b[38;5;241m*\u001b[39m learning_rate\n\u001b[0;32m---> 23\u001b[0m weights_input_hidden \u001b[38;5;241m+\u001b[39m\u001b[38;5;241m=\u001b[39m \u001b[43mnp\u001b[49m\u001b[38;5;241;43m.\u001b[39;49m\u001b[43mdot\u001b[49m\u001b[43m(\u001b[49m\u001b[43minput_data\u001b[49m\u001b[38;5;241;43m.\u001b[39;49m\u001b[43mT\u001b[49m\u001b[43m,\u001b[49m\u001b[43m \u001b[49m\u001b[43md_hidden_layer\u001b[49m\u001b[43m)\u001b[49m \u001b[38;5;241m*\u001b[39m learning_rate\n\u001b[1;32m     24\u001b[0m bias_hidden \u001b[38;5;241m+\u001b[39m\u001b[38;5;241m=\u001b[39m np\u001b[38;5;241m.\u001b[39msum(d_hidden_layer, axis\u001b[38;5;241m=\u001b[39m\u001b[38;5;241m0\u001b[39m, keepdims\u001b[38;5;241m=\u001b[39m\u001b[38;5;28;01mTrue\u001b[39;00m) \u001b[38;5;241m*\u001b[39m learning_rate\n\u001b[1;32m     26\u001b[0m \u001b[38;5;66;03m# Opcional: Imprimir el error cada 1000 épocas\u001b[39;00m\n",
      "\u001b[0;31mKeyboardInterrupt\u001b[0m: "
     ]
    }
   ],
   "source": [
    "# Entrenamiento\n",
    "for epoch in range(epochs):\n",
    "    # Propagación hacia adelante\n",
    "    hidden_layer_input = np.dot(input_data, weights_input_hidden) + bias_hidden\n",
    "    hidden_layer_output = tanh(hidden_layer_input)\n",
    "\n",
    "    output_layer_input = np.dot(hidden_layer_output, weights_hidden_output) + bias_output\n",
    "    predicted_output = tanh(output_layer_input)\n",
    "\n",
    "    # Cálculo del error\n",
    "    error = output_data - predicted_output\n",
    "    mse = np.mean(np.square(error))\n",
    "\n",
    "    # Propagación hacia atrás\n",
    "    d_predicted_output = error * tanh_derivative(predicted_output)\n",
    "    error_hidden_layer = np.dot(d_predicted_output, weights_hidden_output.T)\n",
    "    d_hidden_layer = error_hidden_layer * tanh_derivative(hidden_layer_output)\n",
    "\n",
    "    # Actualización de pesos y sesgos\n",
    "    weights_hidden_output += np.dot(hidden_layer_output.T, d_predicted_output) * learning_rate\n",
    "    bias_output += np.sum(d_predicted_output, axis=0, keepdims=True) * learning_rate\n",
    "\n",
    "    weights_input_hidden += np.dot(input_data.T, d_hidden_layer) * learning_rate\n",
    "    bias_hidden += np.sum(d_hidden_layer, axis=0, keepdims=True) * learning_rate\n",
    "\n",
    "    # Opcional: Imprimir el error cada 1000 épocas\n",
    "    if epoch % 1000 == 0:\n",
    "        print(f\"Epoch {epoch}/{epochs} - MSE: {mse}\")\n",
    "\n",
    "# Opcional: Imprimir el error final\n",
    "print(f\"Error final (MSE): {mse}\")\n"
   ]
  }
 ],
 "metadata": {
  "kernelspec": {
   "display_name": "spt",
   "language": "python",
   "name": "python3"
  },
  "language_info": {
   "codemirror_mode": {
    "name": "ipython",
    "version": 3
   },
   "file_extension": ".py",
   "mimetype": "text/x-python",
   "name": "python",
   "nbconvert_exporter": "python",
   "pygments_lexer": "ipython3",
   "version": "3.12.7"
  }
 },
 "nbformat": 4,
 "nbformat_minor": 2
}
