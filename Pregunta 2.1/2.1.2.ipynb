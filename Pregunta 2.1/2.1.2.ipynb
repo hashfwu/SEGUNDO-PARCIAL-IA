{
 "cells": [
  {
   "cell_type": "code",
   "execution_count": 1,
   "metadata": {},
   "outputs": [
    {
     "name": "stderr",
     "output_type": "stream",
     "text": [
      "2024-11-28 22:38:52.632992: I tensorflow/core/platform/cpu_feature_guard.cc:182] This TensorFlow binary is optimized to use available CPU instructions in performance-critical operations.\n",
      "To enable the following instructions: SSE4.1 SSE4.2 AVX AVX2 FMA, in other operations, rebuild TensorFlow with the appropriate compiler flags.\n"
     ]
    }
   ],
   "source": [
    "import tensorflow as tf\n",
    "import numpy as np\n"
   ]
  },
  {
   "cell_type": "code",
   "execution_count": 2,
   "metadata": {},
   "outputs": [],
   "source": [
    "\n",
    "# Funciones auxiliares (proporcionadas por ti)\n",
    "def is_winner(board, player):\n",
    "    \"\"\"Comprueba si un jugador ha ganado.\"\"\"\n",
    "    winning_positions = [\n",
    "        [0, 1, 2], [3, 4, 5], [6, 7, 8],  # Filas\n",
    "        [0, 3, 6], [1, 4, 7], [2, 5, 8],  # Columnas\n",
    "        [0, 4, 8], [2, 4, 6]              # Diagonales\n",
    "    ]\n",
    "    return any(all(board[pos] == player for pos in line) for line in winning_positions)\n"
   ]
  },
  {
   "cell_type": "code",
   "execution_count": 3,
   "metadata": {},
   "outputs": [],
   "source": [
    "\n",
    "def generate_boards(board, current_player, next_player):\n",
    "    \"\"\"\n",
    "    Genera todos los posibles tableros desde un estado inicial,\n",
    "    asignando recompensas para cada movimiento.\n",
    "    \"\"\"\n",
    "    boards = []\n",
    "    if is_winner(board, 1) or is_winner(board, -1) or 0 not in board:\n",
    "        reward = [1 if board[i] == 0 and is_winner(board[:i] + [1] + board[i+1:], 1) else\n",
    "                  -1 if board[i] == 0 and is_winner(board[:i] + [-1] + board[i+1:], -1) else\n",
    "                  0 for i in range(9)]\n",
    "        return [(board[:], reward)]\n",
    "    \n",
    "    for i in range(9):\n",
    "        if board[i] == 0:\n",
    "            board[i] = current_player\n",
    "            boards.extend(generate_boards(board, next_player, current_player))\n",
    "            board[i] = 0  # Restaurar estado previo\n",
    "    return boards\n"
   ]
  },
  {
   "cell_type": "code",
   "execution_count": 4,
   "metadata": {},
   "outputs": [],
   "source": [
    "\n",
    "\n",
    "def data_generator():\n",
    "    \"\"\"Genera los datos de entrenamiento iniciales.\"\"\"\n",
    "    initial_board = [0] * 9\n",
    "    return generate_boards(initial_board, 1, -1)\n"
   ]
  },
  {
   "cell_type": "code",
   "execution_count": 5,
   "metadata": {},
   "outputs": [
    {
     "name": "stdout",
     "output_type": "stream",
     "text": [
      "Generando datos de entrenamiento...\n",
      "Datos generados: 255168 ejemplos.\n"
     ]
    }
   ],
   "source": [
    "\n",
    "# Generar datos\n",
    "print(\"Generando datos de entrenamiento...\")\n",
    "data = data_generator()\n",
    "print(f\"Datos generados: {len(data)} ejemplos.\")\n"
   ]
  },
  {
   "cell_type": "code",
   "execution_count": 6,
   "metadata": {},
   "outputs": [],
   "source": [
    "\n",
    "# Convertir datos a formato NumPy\n",
    "X = np.array([d[0] for d in data], dtype=np.float32)  # Tableros\n",
    "y = np.array([d[1] for d in data], dtype=np.float32)  # Recompensas\n"
   ]
  },
  {
   "cell_type": "code",
   "execution_count": 7,
   "metadata": {},
   "outputs": [
    {
     "name": "stderr",
     "output_type": "stream",
     "text": [
      "2024-11-28 22:38:59.168470: I tensorflow/core/common_runtime/process_util.cc:146] Creating new thread pool with default inter op setting: 2. Tune using inter_op_parallelism_threads for best performance.\n"
     ]
    }
   ],
   "source": [
    "\n",
    "# Crear el modelo\n",
    "model = tf.keras.Sequential([\n",
    "    tf.keras.layers.Input(shape=(9,)),       # Entrada: estado del tablero (9 casillas)\n",
    "    tf.keras.layers.Dense(64, activation=\"relu\"),  # Capa oculta\n",
    "    tf.keras.layers.Dense(64, activation=\"relu\"),  # Otra capa oculta\n",
    "    tf.keras.layers.Dense(9, activation=\"linear\")  # Salida: valores Q para cada casilla\n",
    "])\n"
   ]
  },
  {
   "cell_type": "code",
   "execution_count": 8,
   "metadata": {},
   "outputs": [],
   "source": [
    "\n",
    "# Compilar el modelo\n",
    "model.compile(optimizer=tf.keras.optimizers.Adam(learning_rate=0.001),\n",
    "              loss=\"mse\",  # Error cuadrático medio\n",
    "              metrics=[\"mae\"])\n"
   ]
  },
  {
   "cell_type": "code",
   "execution_count": 9,
   "metadata": {},
   "outputs": [
    {
     "name": "stdout",
     "output_type": "stream",
     "text": [
      "Entrenando el modelo...\n",
      "Epoch 1/10\n",
      "7974/7974 [==============================] - 12s 1ms/step - loss: 0.0234 - mae: 0.0786\n",
      "Epoch 2/10\n",
      "7974/7974 [==============================] - 10s 1ms/step - loss: 0.0093 - mae: 0.0495\n",
      "Epoch 3/10\n",
      "7974/7974 [==============================] - 10s 1ms/step - loss: 0.0067 - mae: 0.0436\n",
      "Epoch 4/10\n",
      "7974/7974 [==============================] - 13s 2ms/step - loss: 0.0051 - mae: 0.0400\n",
      "Epoch 5/10\n",
      "7974/7974 [==============================] - 9s 1ms/step - loss: 0.0039 - mae: 0.0370\n",
      "Epoch 6/10\n",
      "7974/7974 [==============================] - 9s 1ms/step - loss: 0.0032 - mae: 0.0346\n",
      "Epoch 7/10\n",
      "7974/7974 [==============================] - 11s 1ms/step - loss: 0.0027 - mae: 0.0326\n",
      "Epoch 8/10\n",
      "7974/7974 [==============================] - 12s 1ms/step - loss: 0.0024 - mae: 0.0309\n",
      "Epoch 9/10\n",
      "7974/7974 [==============================] - 16s 2ms/step - loss: 0.0021 - mae: 0.0297\n",
      "Epoch 10/10\n",
      "7974/7974 [==============================] - 11s 1ms/step - loss: 0.0019 - mae: 0.0285\n"
     ]
    }
   ],
   "source": [
    "\n",
    "# Entrenar el modelo\n",
    "print(\"Entrenando el modelo...\")\n",
    "history = model.fit(X, y, epochs=10, batch_size=32, verbose=1)\n"
   ]
  },
  {
   "cell_type": "code",
   "execution_count": 19,
   "metadata": {},
   "outputs": [
    {
     "name": "stdout",
     "output_type": "stream",
     "text": [
      "1/1 [==============================] - 0s 11ms/step\n",
      "Predicción para el tablero de prueba:\n",
      "[[-0.46705616 -0.18969421  0.44159538 -0.71325517 -0.2034868   0.3060792\n",
      "  -0.2345058   0.02126077  0.34192568]]\n"
     ]
    },
    {
     "data": {
      "image/png": "[encoded data removed]",
      "text/plain": [
       "<Figure size 1000x600 with 1 Axes>"
      ]
     },
     "metadata": {},
     "output_type": "display_data"
    }
   ],
   "source": [
    "# Probar el modelo\n",
    "test_board = [0,  1,  -1,\n",
    "              0,  0,  1,\n",
    "              -1, -1,  1]  # Estado de prueba\n",
    "prediction = model.predict(np.array([test_board]))\n",
    "print(\"Predicción para el tablero de prueba:\")\n",
    "print(prediction)\n",
    "\n",
    "\n",
    "import matplotlib.pyplot as plt\n",
    "\n",
    "\n",
    "# Crear la figura y los ejes\n",
    "plt.figure(figsize=(10, 6))\n",
    "\n",
    "# Crear el gráfico de barras\n",
    "plt.bar(range(len(prediction[0])), prediction[0])\n",
    "\n",
    "# Personalizar el gráfico\n",
    "plt.xlabel('Categorías')  # Puedes cambiar este label por nombres más descriptivos si los tienes\n",
    "plt.ylabel('Valores')\n",
    "plt.title('Gráfico de Barras')\n",
    "\n",
    "# Mostrar el gráfico\n",
    "plt.show()\n",
    "\n"
   ]
  }
 ],
 "metadata": {
  "kernelspec": {
   "display_name": "TensorFlow",
   "language": "python",
   "name": "python3"
  },
  "language_info": {
   "codemirror_mode": {
    "name": "ipython",
    "version": 3
   },
   "file_extension": ".py",
   "mimetype": "text/x-python",
   "name": "python",
   "nbconvert_exporter": "python",
   "pygments_lexer": "ipython3",
   "version": "3.11.5"
  }
 },
 "nbformat": 4,
 "nbformat_minor": 2
}
