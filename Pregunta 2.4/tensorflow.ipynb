{
 "cells": [
  {
   "cell_type": "code",
   "execution_count": 1,
   "metadata": {},
   "outputs": [
    {
     "name": "stderr",
     "output_type": "stream",
     "text": [
      "2024-12-02 13:23:12.110023: I tensorflow/core/platform/cpu_feature_guard.cc:182] This TensorFlow binary is optimized to use available CPU instructions in performance-critical operations.\n",
      "To enable the following instructions: SSE4.1 SSE4.2 AVX, in other operations, rebuild TensorFlow with the appropriate compiler flags.\n"
     ]
    }
   ],
   "source": [
    "import numpy as np\n",
    "import tensorflow as tf\n",
    "from tensorflow.keras.models import Sequential\n",
    "from tensorflow.keras.layers import Dense"
   ]
  },
  {
   "cell_type": "code",
   "execution_count": 2,
   "metadata": {},
   "outputs": [],
   "source": [
    "input_data = np.array(np.genfromtxt('data/input_data.csv', delimiter=','))\n",
    "output_data = np.array(np.genfromtxt('data/output_data.csv', delimiter=','))  "
   ]
  },
  {
   "cell_type": "code",
   "execution_count": 3,
   "metadata": {},
   "outputs": [
    {
     "name": "stderr",
     "output_type": "stream",
     "text": [
      "2024-12-02 13:23:18.895628: I tensorflow/core/common_runtime/process_util.cc:146] Creating new thread pool with default inter op setting: 2. Tune using inter_op_parallelism_threads for best performance.\n"
     ]
    },
    {
     "name": "stdout",
     "output_type": "stream",
     "text": [
      "Epoch 1/100\n",
      "87/87 [==============================] - 7s 36ms/step - loss: 0.1248\n",
      "Epoch 2/100\n",
      "87/87 [==============================] - 3s 35ms/step - loss: 0.0943\n",
      "Epoch 3/100\n",
      "87/87 [==============================] - 3s 34ms/step - loss: 0.0882\n",
      "Epoch 4/100\n",
      "87/87 [==============================] - 3s 34ms/step - loss: 0.0818\n",
      "Epoch 5/100\n",
      "87/87 [==============================] - 3s 39ms/step - loss: 0.0784\n",
      "Epoch 6/100\n",
      "87/87 [==============================] - 2s 29ms/step - loss: 0.0762\n",
      "Epoch 7/100\n",
      "87/87 [==============================] - 2s 26ms/step - loss: 0.0749\n",
      "Epoch 8/100\n",
      "87/87 [==============================] - 1s 16ms/step - loss: 0.0730\n",
      "Epoch 9/100\n",
      "87/87 [==============================] - 1s 17ms/step - loss: 0.0706\n",
      "Epoch 10/100\n",
      "87/87 [==============================] - 2s 24ms/step - loss: 0.0674\n",
      "Epoch 11/100\n",
      "87/87 [==============================] - 2s 23ms/step - loss: 0.0649\n",
      "Epoch 12/100\n",
      "87/87 [==============================] - 2s 19ms/step - loss: 0.0625\n",
      "Epoch 13/100\n",
      "87/87 [==============================] - 2s 24ms/step - loss: 0.0602\n",
      "Epoch 14/100\n",
      "87/87 [==============================] - 3s 31ms/step - loss: 0.0576\n",
      "Epoch 15/100\n",
      "87/87 [==============================] - 3s 31ms/step - loss: 0.0559\n",
      "Epoch 16/100\n",
      "87/87 [==============================] - 4s 41ms/step - loss: 0.0541\n",
      "Epoch 17/100\n",
      "87/87 [==============================] - 3s 32ms/step - loss: 0.0524\n",
      "Epoch 18/100\n",
      "87/87 [==============================] - 2s 27ms/step - loss: 0.0508\n",
      "Epoch 19/100\n",
      "87/87 [==============================] - 3s 35ms/step - loss: 0.0489\n",
      "Epoch 20/100\n",
      "87/87 [==============================] - 3s 32ms/step - loss: 0.0474\n",
      "Epoch 21/100\n",
      "87/87 [==============================] - 3s 39ms/step - loss: 0.0461\n",
      "Epoch 22/100\n",
      "87/87 [==============================] - 3s 37ms/step - loss: 0.0446\n",
      "Epoch 23/100\n",
      "87/87 [==============================] - 2s 28ms/step - loss: 0.0432\n",
      "Epoch 24/100\n",
      "87/87 [==============================] - 3s 38ms/step - loss: 0.0420\n",
      "Epoch 25/100\n",
      "87/87 [==============================] - 2s 25ms/step - loss: 0.0405\n",
      "Epoch 26/100\n",
      "87/87 [==============================] - 2s 26ms/step - loss: 0.0394\n",
      "Epoch 27/100\n",
      "87/87 [==============================] - 4s 42ms/step - loss: 0.0380\n",
      "Epoch 28/100\n",
      "87/87 [==============================] - 3s 34ms/step - loss: 0.0370\n",
      "Epoch 29/100\n",
      "87/87 [==============================] - 3s 36ms/step - loss: 0.0358\n",
      "Epoch 30/100\n",
      "87/87 [==============================] - 2s 24ms/step - loss: 0.0342\n",
      "Epoch 31/100\n",
      "87/87 [==============================] - 3s 36ms/step - loss: 0.0334\n",
      "Epoch 32/100\n",
      "87/87 [==============================] - 3s 32ms/step - loss: 0.0319\n",
      "Epoch 33/100\n",
      "87/87 [==============================] - 3s 30ms/step - loss: 0.0309\n",
      "Epoch 34/100\n",
      "87/87 [==============================] - 3s 36ms/step - loss: 0.0297\n",
      "Epoch 35/100\n",
      "87/87 [==============================] - 3s 37ms/step - loss: 0.0282\n",
      "Epoch 36/100\n",
      "87/87 [==============================] - 2s 28ms/step - loss: 0.0275\n",
      "Epoch 37/100\n",
      "87/87 [==============================] - 3s 33ms/step - loss: 0.0263\n",
      "Epoch 38/100\n",
      "87/87 [==============================] - 3s 34ms/step - loss: 0.0252\n",
      "Epoch 39/100\n",
      "87/87 [==============================] - 3s 35ms/step - loss: 0.0240\n",
      "Epoch 40/100\n",
      "87/87 [==============================] - 2s 28ms/step - loss: 0.0229\n",
      "Epoch 41/100\n",
      "87/87 [==============================] - 2s 27ms/step - loss: 0.0217\n",
      "Epoch 42/100\n",
      "87/87 [==============================] - 2s 26ms/step - loss: 0.0207\n",
      "Epoch 43/100\n",
      "87/87 [==============================] - 2s 28ms/step - loss: 0.0196\n",
      "Epoch 44/100\n",
      "87/87 [==============================] - 2s 26ms/step - loss: 0.0184\n",
      "Epoch 45/100\n",
      "87/87 [==============================] - 3s 34ms/step - loss: 0.0174\n",
      "Epoch 46/100\n",
      "87/87 [==============================] - 3s 29ms/step - loss: 0.0164\n",
      "Epoch 47/100\n",
      "87/87 [==============================] - 3s 30ms/step - loss: 0.0152\n",
      "Epoch 48/100\n",
      "87/87 [==============================] - 3s 30ms/step - loss: 0.0144\n",
      "Epoch 49/100\n",
      "87/87 [==============================] - 3s 29ms/step - loss: 0.0133\n",
      "Epoch 50/100\n",
      "87/87 [==============================] - 2s 27ms/step - loss: 0.0123\n",
      "Epoch 51/100\n",
      "87/87 [==============================] - 2s 25ms/step - loss: 0.0116\n",
      "Epoch 52/100\n",
      "87/87 [==============================] - 2s 25ms/step - loss: 0.0109\n",
      "Epoch 53/100\n",
      "87/87 [==============================] - 3s 29ms/step - loss: 0.0100\n",
      "Epoch 54/100\n",
      "87/87 [==============================] - 3s 33ms/step - loss: 0.0091\n",
      "Epoch 55/100\n",
      "87/87 [==============================] - 2s 25ms/step - loss: 0.0086\n",
      "Epoch 56/100\n",
      "87/87 [==============================] - 3s 31ms/step - loss: 0.0082\n",
      "Epoch 57/100\n",
      "87/87 [==============================] - 3s 30ms/step - loss: 0.0075\n",
      "Epoch 58/100\n",
      "87/87 [==============================] - 2s 27ms/step - loss: 0.0068\n",
      "Epoch 59/100\n",
      "87/87 [==============================] - 2s 24ms/step - loss: 0.0064\n",
      "Epoch 60/100\n",
      "87/87 [==============================] - 2s 28ms/step - loss: 0.0060\n",
      "Epoch 61/100\n",
      "87/87 [==============================] - 3s 31ms/step - loss: 0.0054\n",
      "Epoch 62/100\n",
      "87/87 [==============================] - 2s 25ms/step - loss: 0.0051\n",
      "Epoch 63/100\n",
      "87/87 [==============================] - 2s 20ms/step - loss: 0.0048\n",
      "Epoch 64/100\n",
      "87/87 [==============================] - 2s 22ms/step - loss: 0.0044\n",
      "Epoch 65/100\n",
      "87/87 [==============================] - 3s 30ms/step - loss: 0.0041\n",
      "Epoch 66/100\n",
      "87/87 [==============================] - 2s 28ms/step - loss: 0.0042\n",
      "Epoch 67/100\n",
      "87/87 [==============================] - 2s 26ms/step - loss: 0.0036\n",
      "Epoch 68/100\n",
      "87/87 [==============================] - 2s 28ms/step - loss: 0.0034\n",
      "Epoch 69/100\n",
      "87/87 [==============================] - 3s 31ms/step - loss: 0.0032\n",
      "Epoch 70/100\n",
      "87/87 [==============================] - 3s 30ms/step - loss: 0.0028\n",
      "Epoch 71/100\n",
      "87/87 [==============================] - 3s 30ms/step - loss: 0.0026\n",
      "Epoch 72/100\n",
      "87/87 [==============================] - 2s 27ms/step - loss: 0.0022\n",
      "Epoch 73/100\n",
      "87/87 [==============================] - 3s 31ms/step - loss: 0.0021\n",
      "Epoch 74/100\n",
      "87/87 [==============================] - 2s 29ms/step - loss: 0.0019\n",
      "Epoch 75/100\n",
      "87/87 [==============================] - 3s 32ms/step - loss: 0.0018\n",
      "Epoch 76/100\n",
      "87/87 [==============================] - 3s 32ms/step - loss: 0.0017\n",
      "Epoch 77/100\n",
      "87/87 [==============================] - 3s 34ms/step - loss: 0.0016\n",
      "Epoch 78/100\n",
      "87/87 [==============================] - 3s 30ms/step - loss: 0.0015\n",
      "Epoch 79/100\n",
      "87/87 [==============================] - 3s 33ms/step - loss: 0.0014\n",
      "Epoch 80/100\n",
      "87/87 [==============================] - 2s 22ms/step - loss: 0.0013\n",
      "Epoch 81/100\n",
      "87/87 [==============================] - 2s 28ms/step - loss: 0.0012\n",
      "Epoch 82/100\n",
      "87/87 [==============================] - 2s 28ms/step - loss: 0.0021\n",
      "Epoch 83/100\n",
      "87/87 [==============================] - 2s 21ms/step - loss: 0.0060\n",
      "Epoch 84/100\n",
      "87/87 [==============================] - 3s 30ms/step - loss: 0.0097\n",
      "Epoch 85/100\n",
      "87/87 [==============================] - 3s 32ms/step - loss: 0.0044\n",
      "Epoch 86/100\n",
      "87/87 [==============================] - 3s 32ms/step - loss: 0.0022\n",
      "Epoch 87/100\n",
      "87/87 [==============================] - 3s 38ms/step - loss: 0.0012\n",
      "Epoch 88/100\n",
      "87/87 [==============================] - 4s 41ms/step - loss: 9.8686e-04\n",
      "Epoch 89/100\n",
      "87/87 [==============================] - 2s 26ms/step - loss: 8.9562e-04\n",
      "Epoch 90/100\n",
      "87/87 [==============================] - 3s 33ms/step - loss: 8.5057e-04\n",
      "Epoch 91/100\n",
      "87/87 [==============================] - 2s 25ms/step - loss: 8.1560e-04\n",
      "Epoch 92/100\n",
      "87/87 [==============================] - 3s 33ms/step - loss: 7.8358e-04\n",
      "Epoch 93/100\n",
      "87/87 [==============================] - 2s 28ms/step - loss: 7.4571e-04\n",
      "Epoch 94/100\n",
      "87/87 [==============================] - 3s 29ms/step - loss: 7.2341e-04\n",
      "Epoch 95/100\n",
      "87/87 [==============================] - 2s 24ms/step - loss: 7.0137e-04\n",
      "Epoch 96/100\n",
      "87/87 [==============================] - 3s 30ms/step - loss: 6.7380e-04\n",
      "Epoch 97/100\n",
      "87/87 [==============================] - 3s 30ms/step - loss: 6.4237e-04\n",
      "Epoch 98/100\n",
      "87/87 [==============================] - 3s 32ms/step - loss: 6.3581e-04\n",
      "Epoch 99/100\n",
      "87/87 [==============================] - 3s 34ms/step - loss: 5.9323e-04\n",
      "Epoch 100/100\n",
      "87/87 [==============================] - 2s 26ms/step - loss: 5.6231e-04\n"
     ]
    },
    {
     "data": {
      "text/plain": [
       "<keras.callbacks.History at 0x7f201b9afe90>"
      ]
     },
     "execution_count": 3,
     "metadata": {},
     "output_type": "execute_result"
    }
   ],
   "source": [
    "model = Sequential([\n",
    "    Dense(27, input_dim=9, activation='tanh'),  # Capa oculta\n",
    "    Dense(81, activation='tanh'),  # Capa oculta\n",
    "    Dense(243, activation='tanh'),  # Capa oculta\n",
    "    Dense(81, activation='tanh'),  # Capa oculta\n",
    "    Dense(27, activation='tanh'),  # Capa oculta\n",
    "    Dense(9, activation='sigmoid')  # Capa de salida\n",
    "])\n",
    "\n",
    "# Compilar el modelo\n",
    "model.compile(optimizer='adam', loss='mean_squared_error')\n",
    "\n",
    "# Entrenar el modelo\n",
    "model.fit(input_data, output_data, epochs=100)"
   ]
  },
  {
   "cell_type": "code",
   "execution_count": 4,
   "metadata": {},
   "outputs": [
    {
     "name": "stdout",
     "output_type": "stream",
     "text": [
      "87/87 [==============================] - 2s 23ms/step\n"
     ]
    }
   ],
   "source": [
    "\n",
    "# Hacer predicciones (deberían ser similares a las entradas)\n",
    "predictions = model.predict(input_data)\n",
    "\n",
    "# Mostrar algunas predicciones\n",
    "def round_to_choices(values):\n",
    "    return np.clip(np.round(values), -1, 1)\n",
    "\n",
    "# Redondear las predicciones\n",
    "rounded_predictions = np.vectorize(round_to_choices)(predictions)"
   ]
  },
  {
   "cell_type": "code",
   "execution_count": 5,
   "metadata": {},
   "outputs": [
    {
     "name": "stdout",
     "output_type": "stream",
     "text": [
      "1.0\t-1.0\t0.0\t-1.0\t1.0\t0.0\t0.0\t-1.0\t0.0\n",
      "0.0\t0.0\t1.0\t0.0\t0.0\t0.0\t0.0\t0.0\t0.0\n",
      "0.0\t0.0\t1.0\t0.0\t0.0\t0.0\t0.0\t0.0\t0.0\n"
     ]
    }
   ],
   "source": [
    "\n",
    "# Mostrar algunas predicciones redondeadas\n",
    "rand_index = np.random.randint(0, 1000)\n",
    "\n",
    "input_str = [str(item) for item in input_data[rand_index]]\n",
    "output_str = [str(item) for item in output_data[rand_index]]\n",
    "rounded_pred_str = [str(item) for item in rounded_predictions[rand_index]]\n",
    "\n",
    "\n",
    "print(\"\\t\".join(input_str))\n",
    "print(\"\\t\".join(output_str))\n",
    "print(\"\\t\".join(rounded_pred_str))"
   ]
  },
  {
   "cell_type": "code",
   "execution_count": 6,
   "metadata": {},
   "outputs": [
    {
     "name": "stdout",
     "output_type": "stream",
     "text": [
      "Pesos y sesgos exportados correctamente.\n"
     ]
    }
   ],
   "source": [
    "import numpy as np\n",
    "\n",
    "# Extraer y guardar pesos y sesgos\n",
    "for i, layer in enumerate(model.layers):\n",
    "    weights, biases = layer.get_weights()\n",
    "    np.save(f\"weights_layer_{i}.npy\", weights)\n",
    "    np.save(f\"bias_layer_{i}.npy\", biases.reshape(1, -1))  # Asegurarte de que sean bidimensionales\n",
    "\n",
    "\n",
    "print(\"Pesos y sesgos exportados correctamente.\")\n"
   ]
  }
 ],
 "metadata": {
  "kernelspec": {
   "display_name": "TensorFlow2",
   "language": "python",
   "name": "python3"
  },
  "language_info": {
   "codemirror_mode": {
    "name": "ipython",
    "version": 3
   },
   "file_extension": ".py",
   "mimetype": "text/x-python",
   "name": "python",
   "nbconvert_exporter": "python",
   "pygments_lexer": "ipython3",
   "version": "3.11.5"
  }
 },
 "nbformat": 4,
 "nbformat_minor": 2
}
